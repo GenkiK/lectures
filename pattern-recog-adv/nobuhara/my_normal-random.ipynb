{
  "cells": [
    {
      "cell_type": "markdown",
      "metadata": {
        "id": "MsGQnGvQTnY2"
      },
      "source": [
        "# Draw random samples from $\\mathcal{N}(0,1)$ by the inverse transform from $\\mathcal{U}(0,1)$\n",
        "\n",
        "## CDF of $\\mathcal{N}(0, 1)$\n",
        "\n",
        "* Suppose we compute the CDF of $\\mathcal{N}(0, 1)$ in $[-5, 5]$.  Let `x` be the array of sampling points.\n",
        "* Compute the value of $\\mathcal{N}(0, 1)$ at `x` as an array `pdf`.\n",
        "* Compute the CDF of $\\mathcal{N}(0, 1)$ at `x` as an array `cdf`."
      ]
    },
    {
      "cell_type": "code",
      "execution_count": 10,
      "metadata": {
        "colab": {
          "base_uri": "https://localhost:8080/",
          "height": 265
        },
        "id": "ar474v5MX_Xn",
        "outputId": "511fc4df-2f6a-4c13-d132-1391bd13fcfe"
      },
      "outputs": [
        {
          "data": {
            "image/png": "[encoded data removed]",
            "text/plain": [
              "<Figure size 432x288 with 1 Axes>"
            ]
          },
          "metadata": {
            "needs_background": "light"
          },
          "output_type": "display_data"
        }
      ],
      "source": [
        "import numpy as np\n",
        "import matplotlib.pyplot as plt\n",
        "\n",
        "def normal(x):\n",
        "    # implement here\n",
        "    return np.exp(- x**2 / 2) / (2 * np.pi)**0.5\n",
        "\n",
        "def pdf2cdf(pdf):\n",
        "    # implement here\n",
        "    dt = 10 / pdf.shape[0]\n",
        "    cdf = np.zeros_like(pdf)\n",
        "    cdf[0] = pdf[0]\n",
        "    for i in range(1, pdf.shape[0]):\n",
        "        cdf[i] = cdf[i-1] + pdf[i] * dt\n",
        "    return cdf\n",
        "\n",
        "\n",
        "## Do not edit hereafter ##\n",
        "\n",
        "x = np.linspace(-5, 5, 1000)\n",
        "pdf = normal(x)\n",
        "cdf = pdf2cdf(pdf)\n",
        "\n",
        "plt.plot(x, pdf, label='PDF')\n",
        "plt.plot(x, cdf, label='CDF')\n",
        "plt.legend()\n",
        "plt.show()\n"
      ]
    },
    {
      "cell_type": "markdown",
      "metadata": {
        "id": "-6OHvdGITmjE"
      },
      "source": [
        "## Generate random samples using $\\mathcal{U}(0,1)$\n",
        "\n",
        "* The inverse of CDF can be implemented by finding the nearest value and its index in `cdf`.\n",
        "  * In this assignment, *nearest* is not necessarily strict for simplicity; meaning that it can be either the most nearest or the 2nd nearest.\n",
        "  * Once the index of the nearest value in `cdf` is found, then the value of `x` at the same index is the corresponding random value in $\\mathcal{N}(0, 1)$."
      ]
    },
    {
      "cell_type": "code",
      "execution_count": 20,
      "metadata": {
        "colab": {
          "base_uri": "https://localhost:8080/",
          "height": 285
        },
        "id": "6bhp0P2Mce_Y",
        "outputId": "72e45fba-98b1-4165-d136-2ba9cac4f861"
      },
      "outputs": [
        {
          "name": "stdout",
          "output_type": "stream",
          "text": [
            "mu=-0.0006419919919920051, var=1.0039892474257814\n"
          ]
        },
        {
          "data": {
            "image/png": "[encoded data removed]",
            "text/plain": [
              "<Figure size 432x288 with 1 Axes>"
            ]
          },
          "metadata": {
            "needs_background": "light"
          },
          "output_type": "display_data"
        }
      ],
      "source": [
        "# random samples from U(0,1)\n",
        "y = np.random.uniform(0, 1, 100000)\n",
        "\n",
        "\n",
        "\n",
        "# implement here\n",
        "# convert y to z using cdf.  z is the corresponding random value from N(0, 1).\n",
        "\n",
        "def cdf_inv(x, y, cdf):\n",
        "    z = np.zeros_like(y)\n",
        "    for i in range(y.shape[0]):\n",
        "        for j in range(1, cdf.shape[0]):\n",
        "            if cdf[j-1] <= y[i] <= cdf[j]:\n",
        "                z[i] = x[j]\n",
        "                break\n",
        "    return z\n",
        "\n",
        "z = cdf_inv(x, y, cdf)\n",
        "\n",
        "\n",
        "## Do not edit hereafter ##\n",
        "\n",
        "# sample mean and var\n",
        "mu = np.mean(z)\n",
        "var = np.var(z)\n",
        "print(f'mu={mu}, var={var}')\n",
        "\n",
        "plt.hist(z, bins=30, alpha=0.5, label=r'$\\mathcal{N}(0,1)$')\n",
        "plt.hist(y, bins=10, alpha=0.5, label=r'$\\mathcal{U}(0,1)$')\n",
        "plt.legend()\n",
        "plt.show()\n"
      ]
    },
    {
      "cell_type": "code",
      "execution_count": null,
      "metadata": {},
      "outputs": [],
      "source": []
    }
  ],
  "metadata": {
    "colab": {
      "collapsed_sections": [],
      "name": "normal_random.ipynb",
      "provenance": []
    },
    "interpreter": {
      "hash": "770659f615e1d9fd8f5b6e7897826b7c36a6eddab84014214d9554eecc78eaaf"
    },
    "kernelspec": {
      "display_name": "Python 3.10.4 ('lectures-hYsMi3cO-py3.10')",
      "language": "python",
      "name": "python3"
    },
    "language_info": {
      "codemirror_mode": {
        "name": "ipython",
        "version": 3
      },
      "file_extension": ".py",
      "mimetype": "text/x-python",
      "name": "python",
      "nbconvert_exporter": "python",
      "pygments_lexer": "ipython3",
      "version": "3.10.4"
    }
  },
  "nbformat": 4,
  "nbformat_minor": 0
}
