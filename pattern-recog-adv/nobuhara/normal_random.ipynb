{
  "cells": [
    {
      "cell_type": "markdown",
      "metadata": {
        "id": "MsGQnGvQTnY2"
      },
      "source": [
        "# Draw random samples from $\\mathcal{N}(0,1)$ by the inverse transform from $\\mathcal{U}(0,1)$\n",
        "\n",
        "## CDF of $\\mathcal{N}(0, 1)$\n",
        "\n",
        "* Suppose we compute the CDF of $\\mathcal{N}(0, 1)$ in $[-5, 5]$.  Let `x` be the array of sampling points.\n",
        "* Compute the value of $\\mathcal{N}(0, 1)$ at `x` as an array `pdf`.\n",
        "* Compute the CDF of $\\mathcal{N}(0, 1)$ at `x` as an array `cdf`."
      ]
    },
    {
      "cell_type": "code",
      "execution_count": null,
      "metadata": {
        "colab": {
          "base_uri": "https://localhost:8080/",
          "height": 265
        },
        "id": "ar474v5MX_Xn",
        "outputId": "511fc4df-2f6a-4c13-d132-1391bd13fcfe"
      },
      "outputs": [
        {
          "data": {
            "image/png": "[encoded data removed]",
            "text/plain": [
              "<Figure size 432x288 with 1 Axes>"
            ]
          },
          "metadata": {
            "needs_background": "light"
          },
          "output_type": "display_data"
        }
      ],
      "source": [
        "import numpy as np\n",
        "import matplotlib.pyplot as plt\n",
        "\n",
        "def normal(x):\n",
        "    # implement here\n",
        "    return ...\n",
        "\n",
        "def pdf2cdf(pdf):\n",
        "    # implement here\n",
        "    return ...\n",
        "\n",
        "\n",
        "## Do not edit hereafter ##\n",
        "\n",
        "x = np.linspace(-5, 5, 1000)\n",
        "pdf = normal(x)\n",
        "cdf = pdf2cdf(pdf)\n",
        "\n",
        "plt.plot(x, pdf, label='PDF')\n",
        "plt.plot(x, cdf, label='CDF')\n",
        "plt.legend()\n",
        "plt.show()\n"
      ]
    },
    {
      "cell_type": "markdown",
      "metadata": {
        "id": "-6OHvdGITmjE"
      },
      "source": [
        "## Generate random samples using $\\mathcal{U}(0,1)$\n",
        "\n",
        "* The inverse of CDF can be implemented by finding the nearest value and its index in `cdf`.\n",
        "  * In this assignment, *nearest* is not necessarily strict for simplicity; meaning that it can be either the most nearest or the 2nd nearest.\n",
        "  * Once the index of the nearest value in `cdf` is found, then the value of `x` at the same index is the corresponding random value in $\\mathcal{N}(0, 1)$."
      ]
    },
    {
      "cell_type": "code",
      "execution_count": null,
      "metadata": {
        "colab": {
          "base_uri": "https://localhost:8080/",
          "height": 285
        },
        "id": "6bhp0P2Mce_Y",
        "outputId": "72e45fba-98b1-4165-d136-2ba9cac4f861"
      },
      "outputs": [
        {
          "name": "stdout",
          "output_type": "stream",
          "text": [
            "mu=0.004736936936936923, var=1.000840382207192\n"
          ]
        },
        {
          "data": {
            "image/png": "[encoded data removed]",
            "text/plain": [
              "<Figure size 432x288 with 1 Axes>"
            ]
          },
          "metadata": {
            "needs_background": "light"
          },
          "output_type": "display_data"
        }
      ],
      "source": [
        "# random samples from U(0,1)\n",
        "y = np.random.uniform(0, 1, 100000)\n",
        "\n",
        "\n",
        "\n",
        "# implement here\n",
        "# convert y to z using cdf.  z is the corresponding random value from N(0, 1).\n",
        "\n",
        "z = ...\n",
        "\n",
        "\n",
        "\n",
        "## Do not edit hereafter ##\n",
        "\n",
        "# sample mean and var\n",
        "mu = np.mean(z)\n",
        "var = np.var(z)\n",
        "print(f'mu={mu}, var={var}')\n",
        "\n",
        "plt.hist(z, bins=30, alpha=0.5, label=r'$\\mathcal{N}(0,1)$')\n",
        "plt.hist(y, bins=10, alpha=0.5, label=r'$\\mathcal{U}(0,1)$')\n",
        "plt.legend()\n",
        "plt.show()\n"
      ]
    }
  ],
  "metadata": {
    "colab": {
      "collapsed_sections": [],
      "name": "normal_random.ipynb",
      "provenance": []
    },
    "kernelspec": {
      "display_name": "Python 3",
      "name": "python3"
    },
    "language_info": {
      "name": "python"
    }
  },
  "nbformat": 4,
  "nbformat_minor": 0
}
